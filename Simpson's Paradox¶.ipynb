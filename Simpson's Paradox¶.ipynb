{
 "cells": [
  {
   "cell_type": "markdown",
   "metadata": {
    "collapsed": true
   },
   "source": [
    "# Simpson's Paradox\n",
    "Use `admission_data.csv` for this exercise."
   ]
  },
  {
   "cell_type": "code",
   "execution_count": 1,
   "metadata": {},
   "outputs": [],
   "source": [
    "#import needed libararies\n",
    "import pandas as pd\n",
    "import numpy as np\n",
    "from plotly import graph_objs as go\n",
    "import matplotlib.pyplot as plt\n",
    "% matplotlib inline"
   ]
  },
  {
   "cell_type": "code",
   "execution_count": 50,
   "metadata": {},
   "outputs": [
    {
     "name": "stdout",
     "output_type": "stream",
     "text": [
      "<class 'pandas.core.frame.DataFrame'>\n",
      "RangeIndex: 500 entries, 0 to 499\n",
      "Data columns (total 4 columns):\n",
      "student_id    500 non-null int64\n",
      "gender        500 non-null object\n",
      "major         500 non-null object\n",
      "admitted      500 non-null bool\n",
      "dtypes: bool(1), int64(1), object(2)\n",
      "memory usage: 12.3+ KB\n"
     ]
    }
   ],
   "source": [
    "# Load and view first few lines of dataset\n",
    "df = pd.read_csv(\"admission_data.csv\")\n",
    "df.info()"
   ]
  },
  {
   "cell_type": "code",
   "execution_count": 3,
   "metadata": {},
   "outputs": [],
   "source": [
    "# set index st ID \n",
    "df_i = df.set_index('student_id')"
   ]
  },
  {
   "cell_type": "code",
   "execution_count": 4,
   "metadata": {},
   "outputs": [
    {
     "data": {
      "text/html": [
       "<div>\n",
       "<style scoped>\n",
       "    .dataframe tbody tr th:only-of-type {\n",
       "        vertical-align: middle;\n",
       "    }\n",
       "\n",
       "    .dataframe tbody tr th {\n",
       "        vertical-align: top;\n",
       "    }\n",
       "\n",
       "    .dataframe thead th {\n",
       "        text-align: right;\n",
       "    }\n",
       "</style>\n",
       "<table border=\"1\" class=\"dataframe\">\n",
       "  <thead>\n",
       "    <tr style=\"text-align: right;\">\n",
       "      <th></th>\n",
       "      <th>gender</th>\n",
       "      <th>major</th>\n",
       "      <th>admitted</th>\n",
       "    </tr>\n",
       "    <tr>\n",
       "      <th>student_id</th>\n",
       "      <th></th>\n",
       "      <th></th>\n",
       "      <th></th>\n",
       "    </tr>\n",
       "  </thead>\n",
       "  <tbody>\n",
       "    <tr>\n",
       "      <th>35377</th>\n",
       "      <td>female</td>\n",
       "      <td>Chemistry</td>\n",
       "      <td>False</td>\n",
       "    </tr>\n",
       "    <tr>\n",
       "      <th>56105</th>\n",
       "      <td>male</td>\n",
       "      <td>Physics</td>\n",
       "      <td>True</td>\n",
       "    </tr>\n",
       "    <tr>\n",
       "      <th>31441</th>\n",
       "      <td>female</td>\n",
       "      <td>Chemistry</td>\n",
       "      <td>False</td>\n",
       "    </tr>\n",
       "    <tr>\n",
       "      <th>51765</th>\n",
       "      <td>male</td>\n",
       "      <td>Physics</td>\n",
       "      <td>True</td>\n",
       "    </tr>\n",
       "    <tr>\n",
       "      <th>53714</th>\n",
       "      <td>female</td>\n",
       "      <td>Physics</td>\n",
       "      <td>True</td>\n",
       "    </tr>\n",
       "  </tbody>\n",
       "</table>\n",
       "</div>"
      ],
      "text/plain": [
       "            gender      major  admitted\n",
       "student_id                             \n",
       "35377       female  Chemistry     False\n",
       "56105         male    Physics      True\n",
       "31441       female  Chemistry     False\n",
       "51765         male    Physics      True\n",
       "53714       female    Physics      True"
      ]
     },
     "execution_count": 4,
     "metadata": {},
     "output_type": "execute_result"
    }
   ],
   "source": [
    "df_i.head()"
   ]
  },
  {
   "cell_type": "markdown",
   "metadata": {},
   "source": [
    "### Proportion and admission rate for each gender"
   ]
  },
  {
   "cell_type": "code",
   "execution_count": 68,
   "metadata": {},
   "outputs": [
    {
     "name": "stdout",
     "output_type": "stream",
     "text": [
      "            gender      major  admitted\n",
      "student_id                             \n",
      "35377       female  Chemistry     False\n",
      "31441       female  Chemistry     False\n",
      "53714       female    Physics      True\n",
      "50693       female  Chemistry     False\n",
      "27648       female  Chemistry      True\n",
      "\n",
      "No. of students that are female:  257\n",
      "\n",
      "total students of both sex:  500\n",
      "\n",
      "Proportion of students that are female:  0.514\n"
     ]
    }
   ],
   "source": [
    "# Proportion of students that are female\n",
    "f = df_i[df_i['gender']=='female']\n",
    "print(f.head())\n",
    "print (\"\\nNo. of students that are female: \", len(f[f['gender']=='female']))\n",
    "print(\"\\ntotal students of both sex: \",df.shape[0])\n",
    "print(\"\\nProportion of students that are female: \",(len(f[f['gender']=='female']))/df.shape[0])"
   ]
  },
  {
   "cell_type": "code",
   "execution_count": 65,
   "metadata": {},
   "outputs": [
    {
     "name": "stdout",
     "output_type": "stream",
     "text": [
      "           gender    major  admitted\n",
      "student_id                          \n",
      "56105        male  Physics      True\n",
      "51765        male  Physics      True\n",
      "25946        male  Physics      True\n",
      "55247        male  Physics     False\n",
      "35838        male  Physics      True\n",
      "\n",
      "No. of students that are male>> 243\n",
      "\n",
      "total students of both sex:  500\n",
      "\n",
      "Proportion of students that are male:  0.486\n"
     ]
    }
   ],
   "source": [
    "# Proportion of students that are male\n",
    "m = df_i[df_i['gender']=='male']\n",
    "print(m.head())\n",
    "print (\"\\nNo. of students that are male>>\", len(m[m['gender']=='male']))\n",
    "print(\"\\ntotal students of both sex: \",df.shape[0])\n",
    "print(\"\\nProportion of students that are male: \",(len(m[m['gender']=='male']))/df.shape[0])"
   ]
  },
  {
   "cell_type": "code",
   "execution_count": 79,
   "metadata": {},
   "outputs": [
    {
     "data": {
      "text/plain": [
       "0.28793774319066145"
      ]
     },
     "execution_count": 79,
     "metadata": {},
     "output_type": "execute_result"
    }
   ],
   "source": [
    "# Admission rate for females 72/257\n",
    "len(df[(df['gender']=='female') & (df['admitted'])])/(len(df[df['gender']=='female']))"
   ]
  },
  {
   "cell_type": "code",
   "execution_count": 80,
   "metadata": {},
   "outputs": [
    {
     "data": {
      "text/plain": [
       "0.48559670781893005"
      ]
     },
     "execution_count": 80,
     "metadata": {},
     "output_type": "execute_result"
    }
   ],
   "source": [
    "# Admission rate for males\n",
    "len(df[(df['gender']=='male') & (df['admitted'])])/(len(df[df['gender']=='male']))"
   ]
  },
  {
   "cell_type": "markdown",
   "metadata": {},
   "source": [
    "### Proportion and admission rate for physics majors of each gender"
   ]
  },
  {
   "cell_type": "code",
   "execution_count": 86,
   "metadata": {},
   "outputs": [
    {
     "name": "stdout",
     "output_type": "stream",
     "text": [
      "gender      0.120623\n",
      "major       0.120623\n",
      "admitted    0.120623\n",
      "dtype: float64\n"
     ]
    }
   ],
   "source": [
    "# What proportion of female students are majoring in physics?\n",
    "f_phys = f.query(\"major == 'Physics'\").count()/ (f.query(\"gender == 'female'\").count())\n",
    "print (f_phys)"
   ]
  },
  {
   "cell_type": "code",
   "execution_count": 88,
   "metadata": {},
   "outputs": [
    {
     "name": "stdout",
     "output_type": "stream",
     "text": [
      "gender      0.925926\n",
      "major       0.925926\n",
      "admitted    0.925926\n",
      "dtype: float64\n"
     ]
    }
   ],
   "source": [
    "# What proportion of male students are majoring in physics?\n",
    "m_phys = m.query(\"major == 'Physics'\").count()/ (m.query(\"gender == 'male'\").count())\n",
    "print (m_phys)"
   ]
  },
  {
   "cell_type": "code",
   "execution_count": 89,
   "metadata": {},
   "outputs": [
    {
     "data": {
      "text/plain": [
       "0.7419354838709677"
      ]
     },
     "execution_count": 89,
     "metadata": {},
     "output_type": "execute_result"
    }
   ],
   "source": [
    "# Admission rate for female physics majors\n",
    "len(f[(f[\"gender\"]=='female') & (f[\"major\"] == 'Physics') & f[\"admitted\"]]) / len(f[(f[\"gender\"]=='female') & (f[\"major\"] == 'Physics')])"
   ]
  },
  {
   "cell_type": "code",
   "execution_count": 91,
   "metadata": {},
   "outputs": [
    {
     "data": {
      "text/plain": [
       "0.5155555555555555"
      ]
     },
     "execution_count": 91,
     "metadata": {},
     "output_type": "execute_result"
    }
   ],
   "source": [
    "# Admission rate for male physics majors\n",
    "len(m[(m[\"gender\"]=='male') & (m[\"major\"] == 'Physics') & m[\"admitted\"]]) / len(m[(m[\"gender\"]=='male') & (m[\"major\"] == 'Physics')])"
   ]
  },
  {
   "cell_type": "markdown",
   "metadata": {},
   "source": [
    "### Proportion and admission rate for chemistry majors of each gender"
   ]
  },
  {
   "cell_type": "code",
   "execution_count": 92,
   "metadata": {},
   "outputs": [
    {
     "data": {
      "text/plain": [
       "0.8793774319066148"
      ]
     },
     "execution_count": 92,
     "metadata": {},
     "output_type": "execute_result"
    }
   ],
   "source": [
    "# What proportion of female students are majoring in chemistry?\n",
    "len(f[(f['gender']=='female') & (f['major'] == 'Chemistry')]) / len(f[f['gender']=='female'])"
   ]
  },
  {
   "cell_type": "code",
   "execution_count": 93,
   "metadata": {},
   "outputs": [
    {
     "data": {
      "text/plain": [
       "0.07407407407407407"
      ]
     },
     "execution_count": 93,
     "metadata": {},
     "output_type": "execute_result"
    }
   ],
   "source": [
    "# What proportion of male students are majoring in chemistry?\n",
    "len(m[(m['gender']=='male') & (m['major'] == 'Chemistry')]) / len(m[m['gender']=='male'])"
   ]
  },
  {
   "cell_type": "code",
   "execution_count": 94,
   "metadata": {},
   "outputs": [
    {
     "data": {
      "text/plain": [
       "0.22566371681415928"
      ]
     },
     "execution_count": 94,
     "metadata": {},
     "output_type": "execute_result"
    }
   ],
   "source": [
    "# Admission rate for female chemistry majors\n",
    "len(f[(f['gender']=='female') & (f['major'] == 'Chemistry') & f['admitted']]) / len(f[(f['gender']=='female') & (f['major'] == 'Chemistry')])"
   ]
  },
  {
   "cell_type": "code",
   "execution_count": 97,
   "metadata": {},
   "outputs": [
    {
     "data": {
      "text/plain": [
       "0.1111111111111111"
      ]
     },
     "execution_count": 97,
     "metadata": {},
     "output_type": "execute_result"
    }
   ],
   "source": [
    "# Admission rate for male chemistry majors\n",
    "len(m[(m['gender']=='male') & (m['major'] == 'Chemistry') & m['admitted']]) / len(m[(m['gender']=='male') & (m['major'] == 'Chemistry')])"
   ]
  },
  {
   "cell_type": "markdown",
   "metadata": {},
   "source": [
    "### Admission rate for each major"
   ]
  },
  {
   "cell_type": "code",
   "execution_count": 99,
   "metadata": {},
   "outputs": [
    {
     "data": {
      "text/plain": [
       "0.54296875"
      ]
     },
     "execution_count": 99,
     "metadata": {},
     "output_type": "execute_result"
    }
   ],
   "source": [
    "# Admission rate for physics majors\n",
    "len(df[(df['major'] == 'Physics') & df['admitted']]) / len(df[(df['major'] == 'Physics')])"
   ]
  },
  {
   "cell_type": "code",
   "execution_count": 104,
   "metadata": {},
   "outputs": [
    {
     "data": {
      "text/plain": [
       "0.21721311475409835"
      ]
     },
     "execution_count": 104,
     "metadata": {},
     "output_type": "execute_result"
    }
   ],
   "source": [
    "# Admission rate for chemistry majors\n",
    "len(df[(df['major'] == 'Chemistry') & df['admitted']]) / len(df[(df['major'] == 'Chemistry')])"
   ]
  }
 ],
 "metadata": {
  "kernelspec": {
   "display_name": "Python 3",
   "language": "python",
   "name": "python3"
  },
  "language_info": {
   "codemirror_mode": {
    "name": "ipython",
    "version": 3
   },
   "file_extension": ".py",
   "mimetype": "text/x-python",
   "name": "python",
   "nbconvert_exporter": "python",
   "pygments_lexer": "ipython3",
   "version": "3.6.3"
  }
 },
 "nbformat": 4,
 "nbformat_minor": 2
}
